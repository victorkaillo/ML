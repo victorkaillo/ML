{
  "nbformat": 4,
  "nbformat_minor": 0,
  "metadata": {
    "colab": {
      "name": "DL_Atividade_02.ipynb",
      "provenance": [],
      "collapsed_sections": [],
      "authorship_tag": "ABX9TyML0UnubRWxsw65xhfvXFDn",
      "include_colab_link": true
    },
    "kernelspec": {
      "name": "python3",
      "display_name": "Python 3"
    },
    "language_info": {
      "name": "python"
    }
  },
  "cells": [
    {
      "cell_type": "markdown",
      "metadata": {
        "id": "view-in-github",
        "colab_type": "text"
      },
      "source": [
        "<a href=\"https://colab.research.google.com/github/victorkaillo/ML/blob/main/Basic_Colab_Hello.ipynb\" target=\"_parent\"><img src=\"https://colab.research.google.com/assets/colab-badge.svg\" alt=\"Open In Colab\"/></a>"
      ]
    },
    {
      "cell_type": "markdown",
      "metadata": {
        "id": "YJjpuFbPkL3e"
      },
      "source": [
        "##Victor Kaillo\n",
        "###20180155278\n",
        "####Atividade de DL"
      ]
    },
    {
      "cell_type": "code",
      "metadata": {
        "colab": {
          "base_uri": "https://localhost:8080/"
        },
        "id": "puAGBLwQln82",
        "outputId": "0745a9f5-466f-40bf-c0b9-b4f87821475f"
      },
      "source": [
        "from google.colab import drive\n",
        "drive.mount('/content/drive')"
      ],
      "execution_count": null,
      "outputs": [
        {
          "output_type": "stream",
          "text": [
            "Mounted at /content/drive\n"
          ],
          "name": "stdout"
        }
      ]
    },
    {
      "cell_type": "markdown",
      "metadata": {
        "id": "eX6msx2nPBC4"
      },
      "source": [
        "#### Questão 1\n",
        "#### a)"
      ]
    },
    {
      "cell_type": "code",
      "metadata": {
        "colab": {
          "base_uri": "https://localhost:8080/",
          "height": 346
        },
        "id": "G3o0446Xjo4t",
        "outputId": "a367997e-7b94-4dba-c0d3-c872d0ea5c2d"
      },
      "source": [
        "import numpy as np\n",
        "import matplotlib.pyplot as plt\n",
        "\n",
        "#gerando números aleatórios\n",
        "xdata = np.random.randint(1,100,100)\n",
        "ydata = np.random.randint(100,200,100)\n",
        "\n",
        "xdata2 = np.random.randint(1,100,50)\n",
        "ydata2 = np.random.randint(100,200,50)\n",
        "\n",
        "xdata3 = np.random.randint(1,100,25)\n",
        "ydata3 = np.random.randint(100,200,25)\n",
        "\n",
        "print(np.size(xdata))\n",
        "fig = plt.figure()\n",
        "plt.scatter(xdata,ydata, marker='+', color='r');\n",
        "plt.scatter(xdata2,ydata2, marker='+', color='r');\n",
        "plt.scatter(xdata3,ydata3, marker='+', color='r');\n",
        "#help(np.random.randint)\n",
        "\n",
        "plt.title(\"Scatter Plot\")\n",
        "plt.xlabel('Random distribution')\n",
        "plt.ylabel('Random distribution')\n",
        "plt.show(fig)\n",
        "\n",
        "#salvando files no drive\n",
        "path = '/content/drive/MyDrive/2020.1/ECT2703/'\n",
        "fig.savefig(path+'scat.png', dpi=100)\n",
        "\n",
        "# media dos valores\n",
        "print('media: ', np.mean(xdata))\n",
        "print('std:   ', np.std(xdata))"
      ],
      "execution_count": null,
      "outputs": [
        {
          "output_type": "stream",
          "text": [
            "100\n"
          ],
          "name": "stdout"
        },
        {
          "output_type": "display_data",
          "data": {
            "image/png": "[encoded data removed]",
            "text/plain": [
              "<Figure size 432x288 with 1 Axes>"
            ]
          },
          "metadata": {
            "tags": [],
            "needs_background": "light"
          }
        },
        {
          "output_type": "stream",
          "text": [
            "media:  51.18\n",
            "std:    28.91102903737603\n"
          ],
          "name": "stdout"
        }
      ]
    },
    {
      "cell_type": "markdown",
      "metadata": {
        "id": "XJSXWLREPVfP"
      },
      "source": [
        "b)"
      ]
    },
    {
      "cell_type": "code",
      "metadata": {
        "colab": {
          "base_uri": "https://localhost:8080/",
          "height": 363
        },
        "id": "ufklxj2nPW21",
        "outputId": "6a01b902-d036-4882-8a64-baf1fea1139a"
      },
      "source": [
        "import numpy as np\n",
        "from matplotlib import pyplot as plt\n",
        "\n",
        "freqt1 = input('Qual a frequencia da 1ª senoide? ')\n",
        "ampt1 = input('Qual a amplitude da 1ª senoide? ')\n",
        "\n",
        "freqt1 = int(freqt1)\n",
        "ampt1 = int(ampt1)\n",
        "\n",
        "time = np.arange(0,10,0.1)\n",
        "\n",
        "amp = ampt1*np.sin(freqt1*time)\n",
        "\n",
        "freqt2 = input('Qual a frequencia da 2ª senoide? ')\n",
        "ampt2 = input('Qual a amplitude da 2ª senoide? ')\n",
        "\n",
        "freqt2 = int(freqt2)\n",
        "\n",
        "time2 = np.arange(0,10,0.1)\n",
        "ampt2 = int(ampt2)\n",
        "\n",
        "amp2 = ampt2*np.sin(freqt2*time2)\n",
        "\n",
        "fig = plt.figure()\n",
        "plt.plot(time,amp)\n",
        "plt.plot(time2,amp2)\n",
        "plt.title(\"Sine wave\")\n",
        "plt.xlabel('time')\n",
        "plt.ylabel('amplitude')\n",
        "plt.show(fig)\n",
        "\n",
        "#salvando files no dri2ve\n",
        "path = '/content/drive/MyDrive/2020.1/ECT2703/'\n",
        "fig.savefig(path+'sine.png', dpi=100)\n"
      ],
      "execution_count": null,
      "outputs": [
        {
          "output_type": "stream",
          "text": [
            "Qual a frequencia da 1ª senoide? 2\n",
            "Qual a amplitude da 1ª senoide? 3\n",
            "Qual a frequencia da 2ª senoide? 3\n",
            "Qual a amplitude da 2ª senoide? 2\n"
          ],
          "name": "stdout"
        },
        {
          "output_type": "display_data",
          "data": {
            "image/png": "[encoded data removed]",
            "text/plain": [
              "<Figure size 432x288 with 1 Axes>"
            ]
          },
          "metadata": {
            "tags": [],
            "needs_background": "light"
          }
        }
      ]
    },
    {
      "cell_type": "markdown",
      "metadata": {
        "id": "e6aZwdmMgxBf"
      },
      "source": [
        "#### Questão 2"
      ]
    },
    {
      "cell_type": "code",
      "metadata": {
        "colab": {
          "base_uri": "https://localhost:8080/"
        },
        "id": "BOmOq7p5gz2L",
        "outputId": "63212194-f83d-4a81-8948-c256979ffec0"
      },
      "source": [
        "#Download lenna\n",
        "!wget https://pns2019.github.io/images/Lenna.png\n",
        "#!ls -la"
      ],
      "execution_count": null,
      "outputs": [
        {
          "output_type": "stream",
          "text": [
            "--2021-07-02 00:01:43--  https://pns2019.github.io/images/Lenna.png\n",
            "Resolving pns2019.github.io (pns2019.github.io)... 185.199.109.153, 185.199.111.153, 185.199.108.153, ...\n",
            "Connecting to pns2019.github.io (pns2019.github.io)|185.199.109.153|:443... connected.\n",
            "HTTP request sent, awaiting response... 200 OK\n",
            "Length: 473831 (463K) [image/png]\n",
            "Saving to: ‘Lenna.png’\n",
            "\n",
            "Lenna.png           100%[===================>] 462.73K  --.-KB/s    in 0.04s   \n",
            "\n",
            "2021-07-02 00:01:44 (12.3 MB/s) - ‘Lenna.png’ saved [473831/473831]\n",
            "\n"
          ],
          "name": "stdout"
        }
      ]
    },
    {
      "cell_type": "code",
      "metadata": {
        "colab": {
          "base_uri": "https://localhost:8080/"
        },
        "id": "1npptJm2hYVC",
        "outputId": "c051cc92-5ffc-4ca5-e27e-d45c336bfef7"
      },
      "source": [
        "!ls -la"
      ],
      "execution_count": null,
      "outputs": [
        {
          "output_type": "stream",
          "text": [
            "total 484\n",
            "drwxr-xr-x 1 root root   4096 Jul  2 00:01 .\n",
            "drwxr-xr-x 1 root root   4096 Jul  1 22:38 ..\n",
            "drwxr-xr-x 4 root root   4096 Jun 15 13:37 .config\n",
            "drwx------ 6 root root   4096 Jul  1 22:46 drive\n",
            "-rw-r--r-- 1 root root 473831 May  9  2019 Lenna.png\n",
            "drwxr-xr-x 1 root root   4096 Jun 15 13:37 sample_data\n"
          ],
          "name": "stdout"
        }
      ]
    },
    {
      "cell_type": "code",
      "metadata": {
        "colab": {
          "base_uri": "https://localhost:8080/",
          "height": 1000
        },
        "id": "YcsdYLp6hfKL",
        "outputId": "0f76ade6-2ddd-4b11-96bc-165e157fd5b7"
      },
      "source": [
        "import cv2\n",
        "import matplotlib.pyplot as plt\n",
        "\n",
        "#abrindo uma imagem e efetuando operacoes\n",
        "img = cv2.imread('/content/drive/MyDrive/2020.1/ECT2703/shark.jpg')\n",
        "gray = cv2.cvtColor(img, cv2.COLOR_BGR2GRAY)\n",
        "#criando subplots com a imagem rotacionada\n",
        "plt.subplot(1,2,1)\n",
        "plt.imshow(gray,cmap='gray')\n",
        "plt.subplot(1,2,2)\n",
        "plt.hist(gray.ravel(), bins = 256) #histogram"
      ],
      "execution_count": null,
      "outputs": [
        {
          "output_type": "execute_result",
          "data": {
            "text/plain": [
              "(array([5.0000e+00, 1.2000e+01, 9.0000e+00, 2.1000e+01, 2.4000e+01,\n",
              "        1.7000e+01, 2.8000e+01, 2.3000e+01, 1.8000e+01, 1.8000e+01,\n",
              "        2.2000e+01, 1.9000e+01, 2.0000e+01, 2.7000e+01, 2.4000e+01,\n",
              "        2.7000e+01, 4.2000e+01, 4.4000e+01, 5.7000e+01, 5.5000e+01,\n",
              "        5.8000e+01, 8.1000e+01, 5.0000e+01, 7.4000e+01, 8.0000e+01,\n",
              "        7.8000e+01, 8.9000e+01, 8.7000e+01, 8.8000e+01, 9.1000e+01,\n",
              "        5.6000e+01, 9.4000e+01, 9.6000e+01, 7.6000e+01, 8.7000e+01,\n",
              "        1.0900e+02, 0.0000e+00, 1.0500e+02, 9.8000e+01, 1.0500e+02,\n",
              "        1.3400e+02, 1.1200e+02, 9.6000e+01, 1.1800e+02, 1.3500e+02,\n",
              "        1.3600e+02, 1.2900e+02, 1.4800e+02, 1.6400e+02, 1.8400e+02,\n",
              "        1.7200e+02, 1.8200e+02, 1.9400e+02, 2.2500e+02, 2.4800e+02,\n",
              "        2.4700e+02, 2.9700e+02, 3.2600e+02, 3.4800e+02, 3.4500e+02,\n",
              "        3.9300e+02, 4.6800e+02, 4.9800e+02, 6.2600e+02, 9.0300e+02,\n",
              "        1.1220e+03, 9.8300e+02, 1.0860e+03, 1.3590e+03, 1.4670e+03,\n",
              "        1.5000e+03, 2.1340e+03, 2.3350e+03, 0.0000e+00, 3.0220e+03,\n",
              "        4.1380e+03, 4.0860e+03, 4.3540e+03, 4.9490e+03, 4.7400e+03,\n",
              "        5.2100e+03, 5.9680e+03, 5.2510e+03, 6.5420e+03, 7.6190e+03,\n",
              "        7.2310e+03, 8.0220e+03, 1.0584e+04, 1.1017e+04, 1.0207e+04,\n",
              "        1.1829e+04, 1.2802e+04, 1.1542e+04, 1.7045e+04, 1.6174e+04,\n",
              "        1.3999e+04, 1.5205e+04, 1.1648e+04, 1.1125e+04, 1.0356e+04,\n",
              "        8.5240e+03, 6.7280e+03, 5.7240e+03, 5.0720e+03, 4.6780e+03,\n",
              "        4.2590e+03, 3.7480e+03, 3.6230e+03, 3.2810e+03, 0.0000e+00,\n",
              "        3.0020e+03, 2.7450e+03, 2.6560e+03, 2.6190e+03, 2.6280e+03,\n",
              "        2.6610e+03, 2.4620e+03, 2.1790e+03, 2.3070e+03, 2.1960e+03,\n",
              "        2.0900e+03, 2.0270e+03, 1.8690e+03, 1.7840e+03, 1.3990e+03,\n",
              "        1.2190e+03, 1.0420e+03, 1.0520e+03, 1.0680e+03, 9.8800e+02,\n",
              "        9.6800e+02, 8.3000e+02, 7.7700e+02, 7.2700e+02, 7.2600e+02,\n",
              "        1.0600e+03, 9.4500e+02, 9.5700e+02, 8.0000e+02, 9.0700e+02,\n",
              "        7.2200e+02, 5.8800e+02, 5.0100e+02, 4.5700e+02, 3.9700e+02,\n",
              "        3.7100e+02, 0.0000e+00, 3.7900e+02, 3.7900e+02, 5.1200e+02,\n",
              "        6.0000e+02, 6.2400e+02, 6.9500e+02, 5.5100e+02, 4.7200e+02,\n",
              "        4.4700e+02, 3.4400e+02, 3.4900e+02, 3.0200e+02, 3.4600e+02,\n",
              "        3.6700e+02, 3.0500e+02, 3.6600e+02, 3.9600e+02, 3.7600e+02,\n",
              "        4.5400e+02, 4.3000e+02, 4.4200e+02, 4.6600e+02, 5.6700e+02,\n",
              "        5.0300e+02, 4.9300e+02, 4.9100e+02, 4.5300e+02, 5.0700e+02,\n",
              "        5.2600e+02, 5.1000e+02, 3.8600e+02, 3.5300e+02, 1.4600e+02,\n",
              "        4.9000e+01, 1.1000e+01, 0.0000e+00, 9.0000e+00, 7.0000e+00,\n",
              "        1.2000e+01, 8.0000e+00, 1.0000e+01, 5.0000e+00, 4.0000e+00,\n",
              "        7.0000e+00, 7.0000e+00, 1.2000e+01, 6.0000e+00, 4.0000e+00,\n",
              "        7.0000e+00, 8.0000e+00, 5.0000e+00, 8.0000e+00, 6.0000e+00,\n",
              "        3.0000e+00, 2.0000e+00, 4.0000e+00, 3.0000e+00, 7.0000e+00,\n",
              "        4.0000e+00, 1.3000e+01, 7.0000e+00, 6.0000e+00, 2.0000e+00,\n",
              "        1.0000e+00, 2.0000e+00, 3.0000e+00, 7.0000e+00, 9.0000e+00,\n",
              "        6.0000e+00, 2.0000e+00, 5.0000e+00, 7.0000e+00, 0.0000e+00,\n",
              "        3.0000e+00, 1.0000e+01, 4.0000e+00, 7.0000e+00, 4.0000e+00,\n",
              "        6.0000e+00, 1.0000e+00, 8.0000e+00, 6.0000e+00, 7.0000e+00,\n",
              "        1.0000e+01, 8.0000e+00, 6.0000e+00, 7.0000e+00, 1.5000e+01,\n",
              "        8.0000e+00, 9.0000e+00, 4.0000e+00, 8.0000e+00, 6.0000e+00,\n",
              "        1.3000e+01, 5.0000e+00, 1.6000e+01, 1.3000e+01, 7.0000e+00,\n",
              "        5.0000e+00, 1.1000e+01, 3.0000e+00, 6.0000e+00, 3.0000e+00,\n",
              "        3.0000e+00, 2.0000e+00, 2.0000e+00, 2.0000e+00, 0.0000e+00,\n",
              "        1.0000e+00]),\n",
              " array([  0.        ,   0.97265625,   1.9453125 ,   2.91796875,\n",
              "          3.890625  ,   4.86328125,   5.8359375 ,   6.80859375,\n",
              "          7.78125   ,   8.75390625,   9.7265625 ,  10.69921875,\n",
              "         11.671875  ,  12.64453125,  13.6171875 ,  14.58984375,\n",
              "         15.5625    ,  16.53515625,  17.5078125 ,  18.48046875,\n",
              "         19.453125  ,  20.42578125,  21.3984375 ,  22.37109375,\n",
              "         23.34375   ,  24.31640625,  25.2890625 ,  26.26171875,\n",
              "         27.234375  ,  28.20703125,  29.1796875 ,  30.15234375,\n",
              "         31.125     ,  32.09765625,  33.0703125 ,  34.04296875,\n",
              "         35.015625  ,  35.98828125,  36.9609375 ,  37.93359375,\n",
              "         38.90625   ,  39.87890625,  40.8515625 ,  41.82421875,\n",
              "         42.796875  ,  43.76953125,  44.7421875 ,  45.71484375,\n",
              "         46.6875    ,  47.66015625,  48.6328125 ,  49.60546875,\n",
              "         50.578125  ,  51.55078125,  52.5234375 ,  53.49609375,\n",
              "         54.46875   ,  55.44140625,  56.4140625 ,  57.38671875,\n",
              "         58.359375  ,  59.33203125,  60.3046875 ,  61.27734375,\n",
              "         62.25      ,  63.22265625,  64.1953125 ,  65.16796875,\n",
              "         66.140625  ,  67.11328125,  68.0859375 ,  69.05859375,\n",
              "         70.03125   ,  71.00390625,  71.9765625 ,  72.94921875,\n",
              "         73.921875  ,  74.89453125,  75.8671875 ,  76.83984375,\n",
              "         77.8125    ,  78.78515625,  79.7578125 ,  80.73046875,\n",
              "         81.703125  ,  82.67578125,  83.6484375 ,  84.62109375,\n",
              "         85.59375   ,  86.56640625,  87.5390625 ,  88.51171875,\n",
              "         89.484375  ,  90.45703125,  91.4296875 ,  92.40234375,\n",
              "         93.375     ,  94.34765625,  95.3203125 ,  96.29296875,\n",
              "         97.265625  ,  98.23828125,  99.2109375 , 100.18359375,\n",
              "        101.15625   , 102.12890625, 103.1015625 , 104.07421875,\n",
              "        105.046875  , 106.01953125, 106.9921875 , 107.96484375,\n",
              "        108.9375    , 109.91015625, 110.8828125 , 111.85546875,\n",
              "        112.828125  , 113.80078125, 114.7734375 , 115.74609375,\n",
              "        116.71875   , 117.69140625, 118.6640625 , 119.63671875,\n",
              "        120.609375  , 121.58203125, 122.5546875 , 123.52734375,\n",
              "        124.5       , 125.47265625, 126.4453125 , 127.41796875,\n",
              "        128.390625  , 129.36328125, 130.3359375 , 131.30859375,\n",
              "        132.28125   , 133.25390625, 134.2265625 , 135.19921875,\n",
              "        136.171875  , 137.14453125, 138.1171875 , 139.08984375,\n",
              "        140.0625    , 141.03515625, 142.0078125 , 142.98046875,\n",
              "        143.953125  , 144.92578125, 145.8984375 , 146.87109375,\n",
              "        147.84375   , 148.81640625, 149.7890625 , 150.76171875,\n",
              "        151.734375  , 152.70703125, 153.6796875 , 154.65234375,\n",
              "        155.625     , 156.59765625, 157.5703125 , 158.54296875,\n",
              "        159.515625  , 160.48828125, 161.4609375 , 162.43359375,\n",
              "        163.40625   , 164.37890625, 165.3515625 , 166.32421875,\n",
              "        167.296875  , 168.26953125, 169.2421875 , 170.21484375,\n",
              "        171.1875    , 172.16015625, 173.1328125 , 174.10546875,\n",
              "        175.078125  , 176.05078125, 177.0234375 , 177.99609375,\n",
              "        178.96875   , 179.94140625, 180.9140625 , 181.88671875,\n",
              "        182.859375  , 183.83203125, 184.8046875 , 185.77734375,\n",
              "        186.75      , 187.72265625, 188.6953125 , 189.66796875,\n",
              "        190.640625  , 191.61328125, 192.5859375 , 193.55859375,\n",
              "        194.53125   , 195.50390625, 196.4765625 , 197.44921875,\n",
              "        198.421875  , 199.39453125, 200.3671875 , 201.33984375,\n",
              "        202.3125    , 203.28515625, 204.2578125 , 205.23046875,\n",
              "        206.203125  , 207.17578125, 208.1484375 , 209.12109375,\n",
              "        210.09375   , 211.06640625, 212.0390625 , 213.01171875,\n",
              "        213.984375  , 214.95703125, 215.9296875 , 216.90234375,\n",
              "        217.875     , 218.84765625, 219.8203125 , 220.79296875,\n",
              "        221.765625  , 222.73828125, 223.7109375 , 224.68359375,\n",
              "        225.65625   , 226.62890625, 227.6015625 , 228.57421875,\n",
              "        229.546875  , 230.51953125, 231.4921875 , 232.46484375,\n",
              "        233.4375    , 234.41015625, 235.3828125 , 236.35546875,\n",
              "        237.328125  , 238.30078125, 239.2734375 , 240.24609375,\n",
              "        241.21875   , 242.19140625, 243.1640625 , 244.13671875,\n",
              "        245.109375  , 246.08203125, 247.0546875 , 248.02734375,\n",
              "        249.        ]),\n",
              " <a list of 256 Patch objects>)"
            ]
          },
          "metadata": {
            "tags": []
          },
          "execution_count": 54
        },
        {
          "output_type": "display_data",
          "data": {
            "image/png": "[encoded data removed]",
            "text/plain": [
              "<Figure size 432x288 with 2 Axes>"
            ]
          },
          "metadata": {
            "tags": [],
            "needs_background": "light"
          }
        }
      ]
    }
  ]
}