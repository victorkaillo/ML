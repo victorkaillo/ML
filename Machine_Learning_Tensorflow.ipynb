{
  "nbformat": 4,
  "nbformat_minor": 0,
  "metadata": {
    "colab": {
      "name": "Atividade_04_victor_kaillo.ipynb",
      "provenance": [],
      "authorship_tag": "ABX9TyM2YaITvM4idk54q8v2kiVr",
      "include_colab_link": true
    },
    "kernelspec": {
      "name": "python3",
      "display_name": "Python 3"
    },
    "language_info": {
      "name": "python"
    }
  },
  "cells": [
    {
      "cell_type": "markdown",
      "metadata": {
        "id": "view-in-github",
        "colab_type": "text"
      },
      "source": [
        "<a href=\"https://colab.research.google.com/github/victorkaillo/ML/blob/main/Machine_Learning_Tensorflow.ipynb\" target=\"_parent\"><img src=\"https://colab.research.google.com/assets/colab-badge.svg\" alt=\"Open In Colab\"/></a>"
      ]
    },
    {
      "cell_type": "markdown",
      "metadata": {
        "id": "9mJzyFMrKA3W"
      },
      "source": [
        "#Machine Learning - Tensorflow\n",
        "##Estudo dirigido\n",
        "###Aluno: Victor Kaillo\n",
        "###Professor Helton Maia\n",
        "\n"
      ]
    },
    {
      "cell_type": "code",
      "metadata": {
        "id": "75Pd9t79R5aw"
      },
      "source": [
        "#Victor Kaillo\n",
        "#20180155278\n",
        "import tensorflow as tf\n",
        "import numpy as np\n",
        "from tensorflow import keras\n",
        "\n",
        "model = tf.keras.Sequential([keras.layers.Dense(units=1, input_shape=[1])])\n",
        "\n",
        "model.compile(optimizer='sgd', loss='mean_squared_error')\n",
        "\n",
        "xs = np.array([-1.0, 0.0, 1.0, 2.0, 3.0, 4.0], dtype=float)\n",
        "ys = np.array([-2.0, 1.0, 4.0, 7.0, 10.0, 13.0], dtype=float)\n",
        "\n",
        "model.fit(xs, ys, epochs=1000)"
      ],
      "execution_count": null,
      "outputs": []
    },
    {
      "cell_type": "markdown",
      "metadata": {
        "id": "14fyqL2FKt-o"
      },
      "source": [
        "Os testes com diversas epochs [100, 200, ..., 1000,] foram realizados em notebooks distintos e os resultados anotados para as células seguintes."
      ]
    },
    {
      "cell_type": "code",
      "metadata": {
        "id": "WnE61_r7XSvO"
      },
      "source": [
        "import matplotlib.pyplot as plt"
      ],
      "execution_count": 2,
      "outputs": []
    },
    {
      "cell_type": "code",
      "metadata": {
        "colab": {
          "base_uri": "https://localhost:8080/",
          "height": 282
        },
        "id": "rnI9WyxHU5by",
        "outputId": "502f3cf7-5fec-475c-9b3d-e6352d1b6747"
      },
      "source": [
        "epochs = np.array([100, 200, 300, 400, 500, 600, 700, 800, 900, 1000], dtype=float)\n",
        "loss = np.array([0.0100, 0.0012, 1.5681e-04, 1.9682e-05, 2.5007e-06, 3.0996e-07, 3.9100e-08, 4.9728e-09, 6.2956e-10, 1.0805e-10], dtype = float)\n",
        "#Grafico exibindo numero de \"epochs\" x o erro final\n",
        "plt.plot(epochs, loss) "
      ],
      "execution_count": 3,
      "outputs": [
        {
          "output_type": "execute_result",
          "data": {
            "text/plain": [
              "[<matplotlib.lines.Line2D at 0x7fc3e211d950>]"
            ]
          },
          "metadata": {
            "tags": []
          },
          "execution_count": 3
        },
        {
          "output_type": "display_data",
          "data": {
            "image/png": "[encoded data removed]",
            "text/plain": [
              "<Figure size 432x288 with 1 Axes>"
            ]
          },
          "metadata": {
            "tags": [],
            "needs_background": "light"
          }
        }
      ]
    },
    {
      "cell_type": "code",
      "metadata": {
        "id": "MmUv3VD6Zpg_"
      },
      "source": [
        "time = np.array([3, 4, 7, 8, 10, 11, 14, 15, 18, 23], dtype = float)"
      ],
      "execution_count": 4,
      "outputs": []
    },
    {
      "cell_type": "markdown",
      "metadata": {
        "id": "U6h-oWfLLRH9"
      },
      "source": [
        "#O gráfico a seguir exibe numero de \"epochs\" versus tempo de exucucão das celulas fornecidos pelo colab. Enquanto o anterior apresenta o erro em relação ao número de \"epochs\".\n"
      ]
    },
    {
      "cell_type": "code",
      "metadata": {
        "colab": {
          "base_uri": "https://localhost:8080/",
          "height": 282
        },
        "id": "ORgpUAaeJzyz",
        "outputId": "91363583-1a3b-48c1-c6b7-bb3ed3cf70d0"
      },
      "source": [
        "plt.plot(epochs, time)"
      ],
      "execution_count": 5,
      "outputs": [
        {
          "output_type": "execute_result",
          "data": {
            "text/plain": [
              "[<matplotlib.lines.Line2D at 0x7fc3e02a2fd0>]"
            ]
          },
          "metadata": {
            "tags": []
          },
          "execution_count": 5
        },
        {
          "output_type": "display_data",
          "data": {
            "image/png": "[encoded data removed]",
            "text/plain": [
              "<Figure size 432x288 with 1 Axes>"
            ]
          },
          "metadata": {
            "tags": [],
            "needs_background": "light"
          }
        }
      ]
    },
    {
      "cell_type": "markdown",
      "metadata": {
        "id": "fk4nk8n9LxlQ"
      },
      "source": [
        "##Visualizando os gráficos fica claro que o custo computacional é um expressão quase que exponecial no que diz respeito à quantidade de \"epochs\", enquanto um resultado adequado pode ser obtido a partir de um número específico de \"epochs\". No exemplo estudado, a partir de 400 \"epochs\" não vemos muita evolução quanto ao resultado que justifique o custo computacional."
      ]
    }
  ]
}